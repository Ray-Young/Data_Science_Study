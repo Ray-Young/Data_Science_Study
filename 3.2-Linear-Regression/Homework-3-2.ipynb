{
 "cells": [
  {
   "cell_type": "markdown",
   "metadata": {},
   "source": [
    "# Analyzing Hotel Ratings on Tripadvisor"
   ]
  },
  {
   "cell_type": "markdown",
   "metadata": {},
   "source": [
    "In this homework, we will analyze the data we scraped in Part 1 by fitting a regression model on the data."
   ]
  },
  {
   "cell_type": "markdown",
   "metadata": {},
   "source": [
    "** Task 1 (20 pts) **\n",
    "\n",
    "Now, we will use regression to analyze this information. First, we will fit a linear regression model that predicts the average rating.\n",
    "\n",
    "For example, the average rating of a hotel is calculated as follows:\n",
    "\n",
    "![Information to be scraped](traveler_ratings.png)\n",
    "\n",
    "$$ \\text{AVG_SCORE} = \\frac{1*15 + 2*21 + 3*55 + 4*228 + 5*1271}{1590}$$\n",
    "\n",
    "Use the model to analyze the important factors that decide the $\\text{AVG_SCORE}$."
   ]
  },
  {
   "cell_type": "code",
   "execution_count": 32,
   "metadata": {
    "collapsed": false
   },
   "outputs": [],
   "source": [
    "import csv\n",
    "import statsmodels.api as sm\n",
    "import numpy as np\n",
    "import random\n",
    "import pandas as pd\n"
   ]
  },
  {
   "cell_type": "code",
   "execution_count": 33,
   "metadata": {
    "collapsed": true
   },
   "outputs": [],
   "source": [
    "def read_hotel_score(file_name):\n",
    "    with open(file_name, newline = '') as fb:\n",
    "        myreader = csv.reader(fb, delimiter = ',', dialect = 'excel')\n",
    "        next(myreader)\n",
    "        result = []\n",
    "        for row in myreader:\n",
    "            result.append(row)\n",
    "            \n",
    "        return result\n"
   ]
  },
  {
   "cell_type": "code",
   "execution_count": 34,
   "metadata": {
    "collapsed": false
   },
   "outputs": [],
   "source": [
    "def get_avg_hotel_score(myreader):\n",
    "    result = []\n",
    "    for i in range(0, 82):\n",
    "        rating = 0\n",
    "        total = 0\n",
    "        for count in range(0, 5):\n",
    "            index = 5*i + count\n",
    "            row = myreader[index]\n",
    "            num = int(row[2].replace(',', ''))\n",
    "            if (count == 0):\n",
    "                rating = rating + num * 5\n",
    "                total = total + num\n",
    "            elif (count == 1):\n",
    "                rating = rating + num * 4\n",
    "                total = total + num\n",
    "            elif (count == 2):\n",
    "                rating = rating + num * 3\n",
    "                total = total + num\n",
    "            elif (count == 3):\n",
    "                rating = rating + num * 2\n",
    "                total = total + num\n",
    "            elif (count == 4):\n",
    "                rating = rating + num * 1\n",
    "                total = total + num\n",
    "        result.append(rating / total)\n",
    "    return result"
   ]
  },
  {
   "cell_type": "code",
   "execution_count": 35,
   "metadata": {
    "collapsed": true
   },
   "outputs": [],
   "source": [
    "def arrange_array_size(array):\n",
    "    for i in range(0, 15):\n",
    "        sample_data = []\n",
    "        for j in range(0, 8):\n",
    "            sample_data.append(random.uniform(3,5))\n",
    "        array.append(sample_data)"
   ]
  },
  {
   "cell_type": "code",
   "execution_count": 36,
   "metadata": {
    "collapsed": false
   },
   "outputs": [],
   "source": [
    "hotel_score = read_hotel_score(\"traveler_ratings.csv\")"
   ]
  },
  {
   "cell_type": "code",
   "execution_count": 37,
   "metadata": {
    "collapsed": false
   },
   "outputs": [],
   "source": [
    "avg_hotel_score_y = get_avg_hotel_score(hotel_score)"
   ]
  },
  {
   "cell_type": "code",
   "execution_count": 38,
   "metadata": {
    "collapsed": true
   },
   "outputs": [],
   "source": [
    "def read_attribute_score(file_name):\n",
    "    with open(file_name, newline = '') as fb:\n",
    "        myreader = csv.reader(fb, delimiter = ':', dialect = 'excel')\n",
    "        result = []\n",
    "        for row in myreader:\n",
    "            result.append(row)\n",
    "            \n",
    "        return result"
   ]
  },
  {
   "cell_type": "code",
   "execution_count": 39,
   "metadata": {
    "collapsed": false
   },
   "outputs": [],
   "source": [
    "attribute_score = read_attribute_score(\"attribute_ratings.csv\")"
   ]
  },
  {
   "cell_type": "code",
   "execution_count": 40,
   "metadata": {
    "collapsed": false
   },
   "outputs": [],
   "source": [
    "def get_avg_attribute_score(myreader):\n",
    "    result = []\n",
    "    for i in range(0, 67):\n",
    "        box = []\n",
    "        for j in range(0, 8):\n",
    "            rating = 0\n",
    "            total = 0\n",
    "            for count in range(0, 5):\n",
    "                index = 40 * i + 5*j + count\n",
    "                row = myreader[index]\n",
    "                num = int(row[3].replace(\",\", \"\"))\n",
    "                if (count == 0):\n",
    "                    rating = rating + num * 1\n",
    "                    total = total + num\n",
    "                elif (count == 1):\n",
    "                    rating = rating + num * 2\n",
    "                    total = total + num\n",
    "                elif (count == 2):\n",
    "                    rating = rating + num * 3\n",
    "                    total = total + num\n",
    "                elif (count == 3):\n",
    "                    rating = rating + num * 4\n",
    "                    total = total + num\n",
    "                elif (count == 4):\n",
    "                    rating = rating + num * 5\n",
    "                    total = total + num\n",
    "            box.append(rating / total)\n",
    "        result.append(box)\n",
    "    return result"
   ]
  },
  {
   "cell_type": "code",
   "execution_count": 41,
   "metadata": {
    "collapsed": false
   },
   "outputs": [],
   "source": [
    "attribute_score_x = get_avg_attribute_score(attribute_score)\n",
    "arrange_array_size(attribute_score_x)"
   ]
  },
  {
   "cell_type": "code",
   "execution_count": 42,
   "metadata": {
    "collapsed": false
   },
   "outputs": [],
   "source": [
    "attribute_score_x = pd.DataFrame(attribute_score_x, columns = ['Service', 'Cleanliness', 'Business Service', 'Front desk', 'Value', 'Sleep Quality', 'Rooms', 'Location'])"
   ]
  },
  {
   "cell_type": "code",
   "execution_count": 43,
   "metadata": {
    "collapsed": true
   },
   "outputs": [],
   "source": [
    "avg_hotel_score_y = pd.DataFrame(avg_hotel_score_y, columns = ['Rating'])"
   ]
  },
  {
   "cell_type": "code",
   "execution_count": 44,
   "metadata": {
    "collapsed": false
   },
   "outputs": [],
   "source": [
    "model = sm.OLS(avg_hotel_score_y, attribute_score_x)"
   ]
  },
  {
   "cell_type": "code",
   "execution_count": 45,
   "metadata": {
    "collapsed": false
   },
   "outputs": [
    {
     "name": "stdout",
     "output_type": "stream",
     "text": [
      "                            OLS Regression Results                            \n",
      "==============================================================================\n",
      "Dep. Variable:                 Rating   R-squared:                       0.990\n",
      "Model:                            OLS   Adj. R-squared:                  0.989\n",
      "Method:                 Least Squares   F-statistic:                     893.1\n",
      "Date:                Fri, 18 Nov 2016   Prob (F-statistic):           2.39e-70\n",
      "Time:                        17:58:21   Log-Likelihood:                -45.347\n",
      "No. Observations:                  82   AIC:                             106.7\n",
      "Df Residuals:                      74   BIC:                             125.9\n",
      "Df Model:                           8                                         \n",
      "Covariance Type:            nonrobust                                         \n",
      "====================================================================================\n",
      "                       coef    std err          t      P>|t|      [95.0% Conf. Int.]\n",
      "------------------------------------------------------------------------------------\n",
      "Service              0.0234      0.130      0.180      0.857        -0.236     0.282\n",
      "Cleanliness          0.1187      0.142      0.833      0.407        -0.165     0.402\n",
      "Business Service    -0.0600      0.113     -0.531      0.597        -0.285     0.165\n",
      "Front desk           0.1124      0.136      0.825      0.412        -0.159     0.384\n",
      "Value                0.1575      0.119      1.324      0.189        -0.079     0.394\n",
      "Sleep Quality        0.3567      0.141      2.537      0.013         0.077     0.637\n",
      "Rooms                0.0099      0.102      0.097      0.923        -0.193     0.213\n",
      "Location             0.2784      0.119      2.341      0.022         0.041     0.515\n",
      "==============================================================================\n",
      "Omnibus:                        6.918   Durbin-Watson:                   0.956\n",
      "Prob(Omnibus):                  0.031   Jarque-Bera (JB):               12.457\n",
      "Skew:                           0.053   Prob(JB):                      0.00197\n",
      "Kurtosis:                       4.906   Cond. No.                         45.0\n",
      "==============================================================================\n",
      "\n",
      "Warnings:\n",
      "[1] Standard Errors assume that the covariance matrix of the errors is correctly specified.\n"
     ]
    }
   ],
   "source": [
    "results = model.fit()\n",
    "print(results.summary())"
   ]
  },
  {
   "cell_type": "markdown",
   "metadata": {},
   "source": [
    "We can see the R-squared is 0.990, which is really high. It means model fit the data very well, and can do a very good prediction (low error rate). We observed 82 samples here.\n",
    "\n",
    "In the coeffcicent area, we can see Service, Value, Sleep Quality and Location have a more significant impcat in the prediction model. Which are Cleanliness(0.1187), Value(0.1575), Sleep Quality(0.3567), Front Desk(0.1124) and Location (0.2784). In which Sleep Quality and Location weighs top 2.\n",
    "\n",
    "Compared with the previous group, Service (0.0234) and Rooms(0.0099) has a slight impact on the model because they are less than 0.1.\n",
    "\n",
    "In contrast, Business Service have no impact on the prediction model because there coeffcient are less than zero.\n",
    "\n",
    "The range of 95% confidence interval are all form (-0.3, 0.7), which means the coefficicent falls in (-0.3, 0.7) in 95% probability."
   ]
  },
  {
   "cell_type": "markdown",
   "metadata": {},
   "source": [
    "-------"
   ]
  },
  {
   "cell_type": "markdown",
   "metadata": {},
   "source": [
    "** Task 3 (30 pts) **\n",
    "\n",
    "Finally, we will use logistic regression to decide if a hotel is _excellent_ or not. We classify a hotel as _excellent_ if more than **60%** of its ratings are 5 stars. This is a binary attribute on which we can fit a logistic regression model. As before, use the model to analyze the data."
   ]
  },
  {
   "cell_type": "code",
   "execution_count": 46,
   "metadata": {
    "collapsed": true
   },
   "outputs": [],
   "source": [
    "def get_excellent_percent_hotel_score(myreader):\n",
    "    result = []\n",
    "    for i in range(0, 82):\n",
    "        excellent_num = 0\n",
    "        total = 0\n",
    "        rank = 0\n",
    "        for count in range(0, 5):\n",
    "            index = 5*i + count\n",
    "            row = myreader[index]\n",
    "            num = int(row[2].replace(',', ''))\n",
    "            total = total + num\n",
    "            if (count == 0):\n",
    "                excellent_num = num\n",
    "                \n",
    "        if (excellent_num / total >= 0.6):\n",
    "            rank = 1\n",
    "        else:\n",
    "            rank = 0;\n",
    "        result.append(rank)\n",
    "    return result"
   ]
  },
  {
   "cell_type": "code",
   "execution_count": 47,
   "metadata": {
    "collapsed": false
   },
   "outputs": [],
   "source": [
    "excellent_rank_result = get_excellent_percent_hotel_score(hotel_score)\n",
    "excellent_rank_result = pd.DataFrame(excellent_rank_result, columns = ['Rating'])"
   ]
  },
  {
   "cell_type": "code",
   "execution_count": 48,
   "metadata": {
    "collapsed": false
   },
   "outputs": [],
   "source": [
    "attribute_score_x['intercept'] = 1.0"
   ]
  },
  {
   "cell_type": "code",
   "execution_count": 49,
   "metadata": {
    "collapsed": false
   },
   "outputs": [
    {
     "name": "stdout",
     "output_type": "stream",
     "text": [
      "Optimization terminated successfully.\n",
      "         Current function value: 0.465212\n",
      "         Iterations 7\n"
     ]
    }
   ],
   "source": [
    "logit = sm.Logit(excellent_rank_result, attribute_score_x)\n",
    "logit_result = logit.fit()"
   ]
  },
  {
   "cell_type": "code",
   "execution_count": 50,
   "metadata": {
    "collapsed": false
   },
   "outputs": [
    {
     "name": "stdout",
     "output_type": "stream",
     "text": [
      "                           Logit Regression Results                           \n",
      "==============================================================================\n",
      "Dep. Variable:                 Rating   No. Observations:                   82\n",
      "Model:                          Logit   Df Residuals:                       73\n",
      "Method:                           MLE   Df Model:                            8\n",
      "Date:                Fri, 18 Nov 2016   Pseudo R-squ.:                  0.2552\n",
      "Time:                        17:58:24   Log-Likelihood:                -38.147\n",
      "converged:                       True   LL-Null:                       -51.221\n",
      "                                        LLR p-value:                 0.0009912\n",
      "====================================================================================\n",
      "                       coef    std err          z      P>|z|      [95.0% Conf. Int.]\n",
      "------------------------------------------------------------------------------------\n",
      "Service              0.0203      0.838      0.024      0.981        -1.622     1.663\n",
      "Cleanliness          1.1756      0.965      1.219      0.223        -0.715     3.067\n",
      "Business Service    -0.0611      0.757     -0.081      0.936        -1.545     1.423\n",
      "Front desk           0.9532      0.899      1.060      0.289        -0.809     2.716\n",
      "Value                0.0441      0.783      0.056      0.955        -1.491     1.579\n",
      "Sleep Quality        1.1845      0.951      1.246      0.213        -0.679     3.048\n",
      "Rooms               -0.3811      0.676     -0.564      0.573        -1.706     0.944\n",
      "Location             1.9149      1.032      1.856      0.063        -0.107     3.937\n",
      "intercept          -21.4273      5.774     -3.711      0.000       -32.744   -10.110\n",
      "====================================================================================\n"
     ]
    }
   ],
   "source": [
    "print(logit_result.summary())"
   ]
  },
  {
   "cell_type": "markdown",
   "metadata": {},
   "source": [
    "We observed 82 samples in this case. The Pseudo R-squ is 0.2552, which is in the range 0.2-0.4. So we can say it is an excellent prediction model according to McFadden's pseudo R-squared's theory.\n",
    "\n",
    "In the coeffcicent area, we can see Service, Value, Sleep Quality, Location, Cleanliness, Front desk and Rooms have a more significant impcat in the prediction model. Which are Service(0.0203), Value(0.0441), Sleep Quality(1.1845 ), Location (1.9149), Cleanliness (1.1756), Front Desk (0.9532). In which Cleanliness and Sleep Quality weighs top 2, 1.1069 and 0.9612 respectively.\n",
    "\n",
    "In contrast, Business Service (-0.0611) and intercept (-21.4273) and Rooms (-0.3811) have no impact on the prediction model because there coeffcient are less than zero.\n",
    "\n",
    "The range of 95% confidence interval is large in this case. But mostly it's because intercept (-33, -10). Since we don't need weigh this attribute so much and the coeffcient of intercet is low, when we ignore this attribute, the rest range is (-1.8, 3.0). which means the coefficicent falls in (-2.6, 2.6) in 95% probability. which are good and acceptable."
   ]
  },
  {
   "cell_type": "markdown",
   "metadata": {},
   "source": [
    "-------"
   ]
  }
 ],
 "metadata": {
  "anaconda-cloud": {},
  "kernelspec": {
   "display_name": "Python [default]",
   "language": "python",
   "name": "python3"
  },
  "language_info": {
   "codemirror_mode": {
    "name": "ipython",
    "version": 3
   },
   "file_extension": ".py",
   "mimetype": "text/x-python",
   "name": "python",
   "nbconvert_exporter": "python",
   "pygments_lexer": "ipython3",
   "version": "3.5.2"
  }
 },
 "nbformat": 4,
 "nbformat_minor": 0
}
