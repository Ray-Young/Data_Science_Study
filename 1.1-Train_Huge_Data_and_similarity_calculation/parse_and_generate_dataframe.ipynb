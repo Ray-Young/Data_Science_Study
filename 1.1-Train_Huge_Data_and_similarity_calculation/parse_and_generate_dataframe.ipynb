{
 "cells": [
  {
   "cell_type": "code",
   "execution_count": 1,
   "metadata": {
    "collapsed": false
   },
   "outputs": [
    {
     "name": "stdout",
     "output_type": "stream",
     "text": [
      "--- 355.69542503356934 seconds ---\n"
     ]
    }
   ],
   "source": [
    "import xml.etree.cElementTree as etree\n",
    "import pandas as pd\n",
    "import csv\n",
    "import time\n",
    "\n",
    "start_time = time.time()\n",
    "with open('question_dataframe.csv', 'w') as fp:\n",
    "    for event, elem in etree.iterparse(\"stackoverflow-posts-2015.xml\", events = (\"start\", \"end\")):\n",
    "        if event == \"end\" and elem.tag == \"row\" and elem.get(\"PostTypeId\") == \"1\":\n",
    "            # Get the content from xml\n",
    "            tag = elem.get(\"Tags\")\n",
    "            tag = tag[tag.find(\"<\")+1:tag.find(\">\")]\n",
    "            creation_date = elem.get(\"CreationDate\")\n",
    "            owner_user_id = elem.get(\"OwnerUserId\")\n",
    "            issue_id = elem.get(\"Id\")\n",
    "            data = [issue_id, creation_date, owner_user_id, tag]\n",
    "\n",
    "            # Write the content to csv\n",
    "            wr = csv.writer(fp, dialect='excel')\n",
    "            wr.writerow(data)\n",
    "            elem.clear()\n",
    "fp.close\n",
    "\n",
    "df = pd.read_csv('question_dataframe.csv', names=[\"Id\", \"CreationDate\", \"OwnerUserId\", \"FirstTag\"])\n",
    "df.to_csv(\"question_dataframe.csv\")\n",
    "print(\"--- %s seconds ---\" % (time.time() - start_time))\n"
   ]
  },
  {
   "cell_type": "code",
   "execution_count": null,
   "metadata": {
    "collapsed": true
   },
   "outputs": [],
   "source": []
  }
 ],
 "metadata": {
  "anaconda-cloud": {},
  "kernelspec": {
   "display_name": "Python [Root]",
   "language": "python",
   "name": "Python [Root]"
  },
  "language_info": {
   "codemirror_mode": {
    "name": "ipython",
    "version": 3
   },
   "file_extension": ".py",
   "mimetype": "text/x-python",
   "name": "python",
   "nbconvert_exporter": "python",
   "pygments_lexer": "ipython3",
   "version": "3.5.2"
  }
 },
 "nbformat": 4,
 "nbformat_minor": 0
}
