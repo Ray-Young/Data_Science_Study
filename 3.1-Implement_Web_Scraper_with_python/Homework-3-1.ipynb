{
 "cells": [
  {
   "cell_type": "markdown",
   "metadata": {},
   "source": [
    "# Scraping Hotel Ratings on Tripadvisor"
   ]
  },
  {
   "cell_type": "markdown",
   "metadata": {},
   "source": [
    "In this homework we will practice web scraping. Let's get some basic information for each hotel in Boston."
   ]
  },
  {
   "cell_type": "markdown",
   "metadata": {},
   "source": [
    "On each hotel page, scrape the Traverler ratings. **(10 pts)**\n",
    "\n",
    "![Information to be scraped](traveler_ratings.png)\n",
    "\n",
    "Save the data in \"traverler_ratings.csv\" in the following format:\n",
    "\n",
    "hotel_name, rating, count"
   ]
  },
  {
   "cell_type": "code",
   "execution_count": 1,
   "metadata": {
    "collapsed": false
   },
   "outputs": [],
   "source": [
    "from bs4 import BeautifulSoup\n",
    "import sys\n",
    "import requests\n",
    "import time\n",
    "base_url = \"http://www.tripadvisor.com\"\n",
    "user_agent = \"Mozilla/5.0 (Macintosh; Intel Mac OS X 10_10_2) AppleWebKit/537.36 (KHTML, like Gecko) Chrome/41.0.2272.76 Safari/537.36\"\n",
    "\n",
    "url = base_url + \"/\" + \"Boston\"\n",
    "\n",
    "headers = {'User-Agent' : user_agent}\n",
    "response = requests.get(url, headers=headers)\n",
    "html = response.text.encode('utf-8')"
   ]
  },
  {
   "cell_type": "code",
   "execution_count": 2,
   "metadata": {
    "collapsed": true
   },
   "outputs": [],
   "source": [
    "# Travel Advisor has a series of languages for pages, here we return the english\n",
    "def get_city_url(city):\n",
    "    # Return city url\n",
    "    url = base_url+ \"/\"+ city\n",
    "    \n",
    "    # Given the url, request the HTML page\n",
    "    headers = { 'User-Agent' : user_agent }\n",
    "    response = requests.get(url, headers=headers)\n",
    "    \n",
    "    html = response.text.encode('utf-8')\n",
    "   \n",
    "   # Save to file\n",
    "    with open(('Boston' + '-search-page.json'), \"wb\") as h:\n",
    "        h.write(html)\n",
    "\n",
    "    soup = BeautifulSoup(html, 'lxml')\n",
    "    li = soup.find(\"link\", {\"hreflang\": \"en\"})\n",
    "    return li['href']"
   ]
  },
  {
   "cell_type": "code",
   "execution_count": 3,
   "metadata": {
    "collapsed": false
   },
   "outputs": [],
   "source": [
    "# Get Hotel Url\n",
    "def get_hotel_url(city_url):\n",
    "\n",
    "    url = city_url\n",
    "\n",
    "    # Given the url, request the HTML page\n",
    "    headers = { 'User-Agent' : user_agent }\n",
    "    response = requests.get(url, headers=headers)\n",
    "   \n",
    "    html = response.text.encode('utf-8')\n",
    "    \n",
    "    # Save to file\n",
    "    with open('Boston-en-page.html', \"wb\") as h:\n",
    "        h.write(html)\n",
    "\n",
    "    soup = BeautifulSoup(html, 'lxml')\n",
    "\n",
    "    li = soup.find(\"li\", {\"class\": \"hotels twoLines\"})\n",
    "    hotel_url = li.find('a', href = True)\n",
    "\n",
    "    return hotel_url['href']"
   ]
  },
  {
   "cell_type": "code",
   "execution_count": 12,
   "metadata": {
    "collapsed": true
   },
   "outputs": [],
   "source": [
    "def get_hotel_list_page(city_url):\n",
    "    \n",
    "    # Get the hotellist according to the hotel link\n",
    "\n",
    "    url = base_url + city_url\n",
    "    print(url)\n",
    "    # Sleep 2 sec before starting a new http request\n",
    "    time.sleep(2)\n",
    "    # Request page\n",
    "    headers = { 'User-Agent' : user_agent }\n",
    "    response = requests.get(url, headers=headers)\n",
    "    html = response.text.encode('utf-8')\n",
    "    # Save the \n",
    "    with open(('Boston-hotel_list.html'), \"wb\") as h:\n",
    "        h.write(html)\n",
    "    return html"
   ]
  },
  {
   "cell_type": "code",
   "execution_count": 5,
   "metadata": {
    "collapsed": true
   },
   "outputs": [],
   "source": [
    "def get_hotel_list(html, result):\n",
    "    \n",
    "    soup = BeautifulSoup(html, 'lxml')\n",
    "    # Extract hotel name, star rating and number of reviews\n",
    "    hotel_boxes = soup.select('div.listing.easyClear.p13n_imperfect')\n",
    "    for hotel_box in hotel_boxes:\n",
    "        name = hotel_box.find('div', {'class' :'listing_title'}).find(text=True)\n",
    "        hotel_url = hotel_box.find('div', {'class' :'listing_title'}).find('a', href = True)\n",
    "        new_list = [name, hotel_url['href']]\n",
    "        result.append(new_list)"
   ]
  },
  {
   "cell_type": "code",
   "execution_count": 6,
   "metadata": {
    "collapsed": true
   },
   "outputs": [],
   "source": [
    "def get_next_page(html):\n",
    "    \n",
    "    soup = BeautifulSoup(html, 'lxml')\n",
    "\n",
    "    # Get next URL page if exists, else exit\n",
    "    div = soup.find(\"div\", {\"class\" : \"unified pagination standard_pagination\"})\n",
    "    # check if last page\n",
    "    if div.find('span', {'class' : 'nav next ui_button disabled'}):\n",
    "        return False\n",
    "    # If it is not las page there must be the Next URL\n",
    "    hrefs = div.findAll('a', href= True)\n",
    "    for href in hrefs:\n",
    "        if href.find(text = True) == 'Next':\n",
    "            return href['href']"
   ]
  },
  {
   "cell_type": "code",
   "execution_count": 7,
   "metadata": {
    "collapsed": true
   },
   "outputs": [],
   "source": [
    "def get_hotel_detail_page(hotel_url):\n",
    "    \n",
    "    # Get the hotellist according to the hotel link\n",
    "\n",
    "    url = base_url + hotel_url\n",
    "    # Sleep 2 sec before starting a new http request\n",
    "    time.sleep(2)\n",
    "    # Request page\n",
    "    headers = { 'User-Agent' : user_agent }\n",
    "    response = requests.get(url, headers=headers)\n",
    "    html = response.text.encode('utf-8')\n",
    "    # Save the \n",
    "    with open(('Boston-hotel_detail.html'), \"wb\") as h:\n",
    "        h.write(html)\n",
    "    return html"
   ]
  },
  {
   "cell_type": "code",
   "execution_count": 14,
   "metadata": {
    "collapsed": false
   },
   "outputs": [
    {
     "name": "stdout",
     "output_type": "stream",
     "text": [
      "http://www.tripadvisor.com/Hotels-g60745-Boston_Massachusetts-Hotels.html\n",
      "http://www.tripadvisor.com/Hotels-g60745-oa30-Boston_Massachusetts-Hotels.html#ACCOM_OVERVIEW\n",
      "http://www.tripadvisor.com/Hotels-g60745-oa60-Boston_Massachusetts-Hotels.html#ACCOM_OVERVIEW\n"
     ]
    }
   ],
   "source": [
    "# city_url = get_city_url(\"Boston\")\n",
    "# hotel_url = get_hotel_url(city_url)\n",
    "hotel_url = \"/Hotels-g60745-Boston_Massachusetts-Hotels.html\"\n",
    "\n",
    "result = []\n",
    "while(True):\n",
    "    html = get_hotel_list_page(hotel_url)\n",
    "    get_hotel_list(html, result)\n",
    "    hotel_url = get_next_page(html)\n",
    "    if (hotel_url is False):\n",
    "        break"
   ]
  },
  {
   "cell_type": "code",
   "execution_count": 15,
   "metadata": {
    "collapsed": true
   },
   "outputs": [],
   "source": [
    "def parse_hotel_list(html, traveler_ratings, hotel_name):\n",
    "    soup = BeautifulSoup(html, 'lxml')\n",
    "    rating_filter = soup.find('div', {'id' : 'ratingFilter'})\n",
    "    rating_boxes = rating_filter.select('li')\n",
    "    rating = []\n",
    "    rating.append(hotel_name)\n",
    "    for rating_box in rating_boxes:\n",
    "        label = rating_box.find('label')\n",
    "        span = label.find_all('span')\n",
    "        rating.append(span[2].text.rstrip())\n",
    "    traveler_ratings.append(rating)"
   ]
  },
  {
   "cell_type": "code",
   "execution_count": 16,
   "metadata": {
    "collapsed": false
   },
   "outputs": [],
   "source": [
    "traveler_ratings = []\n",
    "for x in result:\n",
    "    hotel_name = x[0]\n",
    "    hotel_url = x[1]\n",
    "    html = get_hotel_detail_page(hotel_url)\n",
    "    parse_hotel_list(html, traveler_ratings, hotel_name)\n"
   ]
  },
  {
   "cell_type": "code",
   "execution_count": 19,
   "metadata": {
    "collapsed": false
   },
   "outputs": [],
   "source": [
    "import csv\n",
    "with open('traverler_ratings.csv', 'w', newline = '') as fp:\n",
    "    wr = csv.writer(fp)\n",
    "    head = ['hotel_name', 'rating', 'count']\n",
    "    wr.writerow(head)\n",
    "    for x in traveler_ratings:\n",
    "        name = x[0]\n",
    "        for i in range(1,6):\n",
    "            if (i == 1):\n",
    "                rates = 'excellent'\n",
    "                data = [name, rates, x[i]]\n",
    "            elif (i == 2):\n",
    "                rates = 'very good'\n",
    "                data = [name, rates, x[i]]\n",
    "            elif (i == 3):\n",
    "                rates = 'average'\n",
    "                data = [name, rates, x[i]]\n",
    "            elif (i == 4):\n",
    "                rates = 'poor'\n",
    "                data = [name, rates, x[i]]\n",
    "            elif (i == 5):\n",
    "                rates = 'terrible'\n",
    "                data = [name, rates, x[i]]\n",
    "            wr.writerow(data)\n",
    "fp.close()"
   ]
  },
  {
   "cell_type": "markdown",
   "metadata": {},
   "source": [
    "-------"
   ]
  },
  {
   "cell_type": "markdown",
   "metadata": {},
   "source": [
    "Next, scrape all the reviews of each hotel for the star ratings of the following attributes: Value, Location, Sleep Quality, Rooms, Cleanliness, Service. Note that some reviews may not have attribute ratings and some may only have some of the attributes. **(25 pts)**\n",
    "\n",
    "![Information to be scraped](attribute_ratings.png)\n",
    "\n",
    "Save the data in \"attribute_ratings.csv\" in the following format:\n",
    "\n",
    "hotel_name, review_id, attribute, star_value"
   ]
  },
  {
   "cell_type": "code",
   "execution_count": 24,
   "metadata": {
    "collapsed": true
   },
   "outputs": [],
   "source": [
    "def get_next_review_page(html):\n",
    "    \n",
    "    soup = BeautifulSoup(html, 'lxml')\n",
    "\n",
    "    # Get next URL page if exists, else exit\n",
    "    div = soup.find(\"div\", {\"class\" : \"unified pagination \"})\n",
    "    # check if last page\n",
    "    if div.find('span', {'class' : 'nav next disabled'}):\n",
    "        return False\n",
    "    # If it is not las page there must be the Next URL\n",
    "    hrefs = div.findAll('a', href= True)\n",
    "    for href in hrefs:\n",
    "        if href.find(text = True) == 'Next':\n",
    "            return href['href']"
   ]
  },
  {
   "cell_type": "code",
   "execution_count": 25,
   "metadata": {
    "collapsed": true
   },
   "outputs": [],
   "source": [
    "def redirect_review_page(html):\n",
    "    soup = BeautifulSoup(html, 'lxml')\n",
    "    # Extract hotel name, star rating and number of reviews\n",
    "    review_boxes = soup.select('div.reviewSelector')\n",
    "    if review_boxes is None:\n",
    "        return None\n",
    "    div = review_boxes[0].find('div', {'class' : 'innerBubble'})\n",
    "    if (div is None):\n",
    "        return None\n",
    "    url = div.find('a', href = True)\n",
    "    if (url is None):\n",
    "        return None\n",
    "    html = get_hotel_detail_page(url['href'])\n",
    "    return html"
   ]
  },
  {
   "cell_type": "code",
   "execution_count": 38,
   "metadata": {
    "collapsed": true
   },
   "outputs": [],
   "source": [
    "def parse_review_page(html, review_list, hotel_name):\n",
    "    soup = BeautifulSoup(html, 'lxml')\n",
    "    review_boxes = soup.select('div.reviewSelector')\n",
    "    for review_box in review_boxes:\n",
    "        review_id = review_box.get('id')\n",
    "        review_id = review_id[7:]\n",
    "        data = {}\n",
    "        data['hotel_name'] = hotel_name\n",
    "        data['review_id'] = review_id\n",
    "        rating_list = review_box.find('div', {'class' : 'rating-list'})\n",
    "        if (rating_list is None):\n",
    "            continue\n",
    "        spans = rating_list.select('span.rate.sprite-rating_ss.rating_ss')\n",
    "        if(spans is None):\n",
    "            continue\n",
    "        keys = rating_list.find_all('div', {'class' : 'recommend-description'})\n",
    "        if (len(keys) == 0):\n",
    "            continue\n",
    "        for i in range(0, len(spans)):\n",
    "            key = keys[i].getText()\n",
    "            span = spans[i]\n",
    "            img = span.find('img')\n",
    "            value = img['alt'].split()[0]\n",
    "            data[key] = value\n",
    "        \n",
    "        review_list.append(data)\n"
   ]
  },
  {
   "cell_type": "code",
   "execution_count": 39,
   "metadata": {
    "collapsed": true
   },
   "outputs": [],
   "source": [
    "import collections\n",
    "\n",
    "def write_csv(review_list, c):\n",
    "    i = 1\n",
    "    \n",
    "    with open('review_ratings_' + str(c) + '.csv', 'w', newline = '') as fp:\n",
    "#         w = csv.writer(fp)\n",
    "#         header = ['hotel_name', 'review_id', 'attribute', 'star_value']\n",
    "#         w.writerow(head)\n",
    "        w = csv.writer(fp)\n",
    "        for x in review_list:\n",
    "            if ('Value' in x):\n",
    "                data = [x['hotel_name'], x['review_id'], 'Value', x['Value']]\n",
    "                w.writerow(data)\n",
    "            if ('Sleep Quality' in x):\n",
    "                data = [x['hotel_name'], x['review_id'], 'Sleep Quality', x['Sleep Quality']]\n",
    "                w.writerow(data)\n",
    "            if ('Service' in x):\n",
    "                data = [x['hotel_name'], x['review_id'], 'Service', x['Service']]\n",
    "                w.writerow(data)\n",
    "            if ('cleanliness' in x):\n",
    "                data = [x['hotel_name'], x['review_id'], 'Cleanliness', x['Cleanliness']]\n",
    "                w.writerow(data)\n",
    "            if ('Location' in x):\n",
    "                data = [x['hotel_name'], x['review_id'], 'Location', x['Location']]\n",
    "                w.writerow(data)\n",
    "            if ('Rooms' in x):\n",
    "                data = [x['hotel_name'], x['review_id'], 'Rooms', x['Rooms']]\n",
    "                w.writerow(data)\n",
    "    fp.close()"
   ]
  },
  {
   "cell_type": "code",
   "execution_count": 43,
   "metadata": {
    "collapsed": false,
    "scrolled": false
   },
   "outputs": [
    {
     "name": "stdout",
     "output_type": "stream",
     "text": [
      "Start capture reviewsMarriott Vacation Club Pulse at Custom House, Boston from /Hotel_Review-g60745-d94344-Reviews-Marriott_Vacation_Club_Pulse_at_Custom_House_Boston-Boston_Massachusetts.html\n",
      "Success capture Reviews for Marriott Vacation Club Pulse at Custom House, Boston from /Hotel_Review-g60745-d94344-Reviews-Marriott_Vacation_Club_Pulse_at_Custom_House_Boston-Boston_Massachusetts.html\n",
      "Start capture reviewsBoston Harbor Hotel from /Hotel_Review-g60745-d89575-Reviews-Boston_Harbor_Hotel-Boston_Massachusetts.html\n",
      "Success capture Reviews for Boston Harbor Hotel from /Hotel_Review-g60745-d89575-Reviews-Boston_Harbor_Hotel-Boston_Massachusetts.html\n",
      "Start capture reviewsSeaport Boston Hotel from /Hotel_Review-g60745-d94330-Reviews-Seaport_Boston_Hotel-Boston_Massachusetts.html\n",
      "Success capture Reviews for Seaport Boston Hotel from /Hotel_Review-g60745-d94330-Reviews-Seaport_Boston_Hotel-Boston_Massachusetts.html\n",
      "Start capture reviewsFour Seasons Hotel Boston from /Hotel_Review-g60745-d89585-Reviews-Four_Seasons_Hotel_Boston-Boston_Massachusetts.html\n",
      "Success capture Reviews for Four Seasons Hotel Boston from /Hotel_Review-g60745-d89585-Reviews-Four_Seasons_Hotel_Boston-Boston_Massachusetts.html\n",
      "Start capture reviewsLenox Hotel from /Hotel_Review-g60745-d114134-Reviews-Lenox_Hotel-Boston_Massachusetts.html\n",
      "Success capture Reviews for Lenox Hotel from /Hotel_Review-g60745-d114134-Reviews-Lenox_Hotel-Boston_Massachusetts.html\n",
      "Start capture reviewsCourtyard Boston Copley Square from /Hotel_Review-g60745-d313573-Reviews-Courtyard_Boston_Copley_Square-Boston_Massachusetts.html\n",
      "Success capture Reviews for Courtyard Boston Copley Square from /Hotel_Review-g60745-d313573-Reviews-Courtyard_Boston_Copley_Square-Boston_Massachusetts.html\n",
      "Start capture reviewsInterContinental Boston from /Hotel_Review-g60745-d620703-Reviews-InterContinental_Boston-Boston_Massachusetts.html\n",
      "Success capture Reviews for InterContinental Boston from /Hotel_Review-g60745-d620703-Reviews-InterContinental_Boston-Boston_Massachusetts.html\n",
      "Start capture reviewsHotel Commonwealth from /Hotel_Review-g60745-d258705-Reviews-Hotel_Commonwealth-Boston_Massachusetts.html\n",
      "Success capture Reviews for Hotel Commonwealth from /Hotel_Review-g60745-d258705-Reviews-Hotel_Commonwealth-Boston_Massachusetts.html\n",
      "Start capture reviewsMandarin Oriental, Boston from /Hotel_Review-g60745-d1136705-Reviews-Mandarin_Oriental_Boston-Boston_Massachusetts.html\n",
      "Success capture Reviews for Mandarin Oriental, Boston from /Hotel_Review-g60745-d1136705-Reviews-Mandarin_Oriental_Boston-Boston_Massachusetts.html\n",
      "Start capture reviewsResidence Inn Boston Back Bay/Fenway from /Hotel_Review-g60745-d4325990-Reviews-Residence_Inn_Boston_Back_Bay_Fenway-Boston_Massachusetts.html\n",
      "Success capture Reviews for Residence Inn Boston Back Bay/Fenway from /Hotel_Review-g60745-d4325990-Reviews-Residence_Inn_Boston_Back_Bay_Fenway-Boston_Massachusetts.html\n",
      "Start capture reviewsEliot Hotel from /Hotel_Review-g60745-d111423-Reviews-Eliot_Hotel-Boston_Massachusetts.html\n",
      "Success capture Reviews for Eliot Hotel from /Hotel_Review-g60745-d111423-Reviews-Eliot_Hotel-Boston_Massachusetts.html\n",
      "Start capture reviewsXV Beacon from /Hotel_Review-g60745-d94337-Reviews-XV_Beacon-Boston_Massachusetts.html\n",
      "Success capture Reviews for XV Beacon from /Hotel_Review-g60745-d94337-Reviews-XV_Beacon-Boston_Massachusetts.html\n",
      "Start capture reviewsResidence Inn Boston Downtown/Seaport from /Hotel_Review-g60745-d4232689-Reviews-Residence_Inn_Boston_Downtown_Seaport-Boston_Massachusetts.html\n",
      "Success capture Reviews for Residence Inn Boston Downtown/Seaport from /Hotel_Review-g60745-d4232689-Reviews-Residence_Inn_Boston_Downtown_Seaport-Boston_Massachusetts.html\n",
      "Start capture reviewsKimpton Nine Zero Hotel from /Hotel_Review-g60745-d234752-Reviews-Kimpton_Nine_Zero_Hotel-Boston_Massachusetts.html\n",
      "Success capture Reviews for Kimpton Nine Zero Hotel from /Hotel_Review-g60745-d234752-Reviews-Kimpton_Nine_Zero_Hotel-Boston_Massachusetts.html\n",
      "Start capture reviewsHilton Garden Inn Boston Logan Airport from /Hotel_Review-g60745-d8142646-Reviews-Hilton_Garden_Inn_Boston_Logan_Airport-Boston_Massachusetts.html\n",
      "Success capture Reviews for Hilton Garden Inn Boston Logan Airport from /Hotel_Review-g60745-d8142646-Reviews-Hilton_Garden_Inn_Boston_Logan_Airport-Boston_Massachusetts.html\n",
      "Start capture reviewsThe Verb Hotel from /Hotel_Review-g60745-d6485213-Reviews-The_Verb_Hotel-Boston_Massachusetts.html\n",
      "Success capture Reviews for The Verb Hotel from /Hotel_Review-g60745-d6485213-Reviews-The_Verb_Hotel-Boston_Massachusetts.html\n",
      "Start capture reviewsThe Godfrey Hotel Boston from /Hotel_Review-g60745-d8316858-Reviews-The_Godfrey_Hotel_Boston-Boston_Massachusetts.html\n",
      "Success capture Reviews for The Godfrey Hotel Boston from /Hotel_Review-g60745-d8316858-Reviews-The_Godfrey_Hotel_Boston-Boston_Massachusetts.html\n",
      "Start capture reviewsenVision Hotel Boston - Longwood from /Hotel_Review-g60745-d3225572-Reviews-EnVision_Hotel_Boston_Longwood-Boston_Massachusetts.html\n",
      "Success capture Reviews for enVision Hotel Boston - Longwood from /Hotel_Review-g60745-d3225572-Reviews-EnVision_Hotel_Boston_Longwood-Boston_Massachusetts.html\n",
      "Start capture reviewsThe Langham, Boston from /Hotel_Review-g60745-d114149-Reviews-The_Langham_Boston-Boston_Massachusetts.html\n",
      "Success capture Reviews for The Langham, Boston from /Hotel_Review-g60745-d114149-Reviews-The_Langham_Boston-Boston_Massachusetts.html\n",
      "Start capture reviewsLoews Boston Hotel from /Hotel_Review-g60745-d321151-Reviews-Loews_Boston_Hotel-Boston_Massachusetts.html\n",
      "Success capture Reviews for Loews Boston Hotel from /Hotel_Review-g60745-d321151-Reviews-Loews_Boston_Hotel-Boston_Massachusetts.html\n",
      "Start capture reviewsThe Boxer Boston from /Hotel_Review-g60745-d499916-Reviews-The_Boxer_Boston-Boston_Massachusetts.html\n",
      "Success capture Reviews for The Boxer Boston from /Hotel_Review-g60745-d499916-Reviews-The_Boxer_Boston-Boston_Massachusetts.html\n",
      "Start capture reviewsColonnade Hotel from /Hotel_Review-g60745-d94371-Reviews-Colonnade_Hotel-Boston_Massachusetts.html\n",
      "Success capture Reviews for Colonnade Hotel from /Hotel_Review-g60745-d94371-Reviews-Colonnade_Hotel-Boston_Massachusetts.html\n",
      "Start capture reviewsResidence Inn Boston Harbor on Tudor Wharf from /Hotel_Review-g60745-d268207-Reviews-Residence_Inn_Boston_Harbor_on_Tudor_Wharf-Boston_Massachusetts.html\n",
      "Success capture Reviews for Residence Inn Boston Harbor on Tudor Wharf from /Hotel_Review-g60745-d268207-Reviews-Residence_Inn_Boston_Harbor_on_Tudor_Wharf-Boston_Massachusetts.html\n",
      "Start capture reviewsFairmont Copley Plaza, Boston from /Hotel_Review-g60745-d111444-Reviews-Fairmont_Copley_Plaza_Boston-Boston_Massachusetts.html\n",
      "Success capture Reviews for Fairmont Copley Plaza, Boston from /Hotel_Review-g60745-d111444-Reviews-Fairmont_Copley_Plaza_Boston-Boston_Massachusetts.html\n",
      "Start capture reviewsCopley Square Hotel from /Hotel_Review-g60745-d111421-Reviews-Copley_Square_Hotel-Boston_Massachusetts.html\n",
      "Success capture Reviews for Copley Square Hotel from /Hotel_Review-g60745-d111421-Reviews-Copley_Square_Hotel-Boston_Massachusetts.html\n",
      "Start capture reviewsW Boston from /Hotel_Review-g60745-d1486034-Reviews-W_Boston-Boston_Massachusetts.html\n",
      "Success capture Reviews for W Boston from /Hotel_Review-g60745-d1486034-Reviews-W_Boston-Boston_Massachusetts.html\n",
      "Start capture reviewsThe Bostonian Boston from /Hotel_Review-g60745-d114150-Reviews-The_Bostonian_Boston-Boston_Massachusetts.html\n",
      "Success capture Reviews for The Bostonian Boston from /Hotel_Review-g60745-d114150-Reviews-The_Bostonian_Boston-Boston_Massachusetts.html\n",
      "Start capture reviewsTaj Boston from /Hotel_Review-g60745-d89615-Reviews-Taj_Boston-Boston_Massachusetts.html\n",
      "Success capture Reviews for Taj Boston from /Hotel_Review-g60745-d89615-Reviews-Taj_Boston-Boston_Massachusetts.html\n",
      "Start capture reviewsThe Westin Copley Place, Boston from /Hotel_Review-g60745-d89617-Reviews-The_Westin_Copley_Place_Boston-Boston_Massachusetts.html\n",
      "Success capture Reviews for The Westin Copley Place, Boston from /Hotel_Review-g60745-d89617-Reviews-The_Westin_Copley_Place_Boston-Boston_Massachusetts.html\n",
      "Start capture reviewsNewbury Guest House from /Hotel_Review-g60745-d111434-Reviews-Newbury_Guest_House-Boston_Massachusetts.html\n",
      "Success capture Reviews for Newbury Guest House from /Hotel_Review-g60745-d111434-Reviews-Newbury_Guest_House-Boston_Massachusetts.html\n",
      "Start capture reviewsThe Ritz-Carlton, Boston from /Hotel_Review-g60745-d222955-Reviews-The_Ritz_Carlton_Boston-Boston_Massachusetts.html\n",
      "Success capture Reviews for The Ritz-Carlton, Boston from /Hotel_Review-g60745-d222955-Reviews-The_Ritz_Carlton_Boston-Boston_Massachusetts.html\n",
      "Start capture reviewsThe Envoy Hotel, Autograph Collection from /Hotel_Review-g60745-d8112658-Reviews-The_Envoy_Hotel_Autograph_Collection-Boston_Massachusetts.html\n",
      "Success capture Reviews for The Envoy Hotel, Autograph Collection from /Hotel_Review-g60745-d8112658-Reviews-The_Envoy_Hotel_Autograph_Collection-Boston_Massachusetts.html\n",
      "Start capture reviewsHyatt Regency Boston Harbor from /Hotel_Review-g60745-d89620-Reviews-Hyatt_Regency_Boston_Harbor-Boston_Massachusetts.html\n",
      "Success capture Reviews for Hyatt Regency Boston Harbor from /Hotel_Review-g60745-d89620-Reviews-Hyatt_Regency_Boston_Harbor-Boston_Massachusetts.html\n",
      "Start capture reviewsHyatt Regency Boston from /Hotel_Review-g60745-d111441-Reviews-Hyatt_Regency_Boston-Boston_Massachusetts.html\n",
      "Success capture Reviews for Hyatt Regency Boston from /Hotel_Review-g60745-d111441-Reviews-Hyatt_Regency_Boston-Boston_Massachusetts.html\n",
      "Start capture reviewsKimpton Onyx Hotel from /Hotel_Review-g60745-d287606-Reviews-Kimpton_Onyx_Hotel-Boston_Massachusetts.html\n",
      "Success capture Reviews for Kimpton Onyx Hotel from /Hotel_Review-g60745-d287606-Reviews-Kimpton_Onyx_Hotel-Boston_Massachusetts.html\n",
      "Start capture reviewsBoston Marriott Long Wharf from /Hotel_Review-g60745-d111417-Reviews-Boston_Marriott_Long_Wharf-Boston_Massachusetts.html\n",
      "Success capture Reviews for Boston Marriott Long Wharf from /Hotel_Review-g60745-d111417-Reviews-Boston_Marriott_Long_Wharf-Boston_Massachusetts.html\n",
      "Start capture reviewsThe Liberty, A Luxury Collection Hotel from /Hotel_Review-g60745-d647006-Reviews-The_Liberty_A_Luxury_Collection_Hotel-Boston_Massachusetts.html\n",
      "Success capture Reviews for The Liberty, A Luxury Collection Hotel from /Hotel_Review-g60745-d647006-Reviews-The_Liberty_A_Luxury_Collection_Hotel-Boston_Massachusetts.html\n",
      "Start capture reviewsThe Westin Boston Waterfront from /Hotel_Review-g60745-d595373-Reviews-The_Westin_Boston_Waterfront-Boston_Massachusetts.html\n",
      "Success capture Reviews for The Westin Boston Waterfront from /Hotel_Review-g60745-d595373-Reviews-The_Westin_Boston_Waterfront-Boston_Massachusetts.html\n",
      "Start capture reviewsRevere Hotel Boston Common from /Hotel_Review-g60745-d89600-Reviews-Revere_Hotel_Boston_Common-Boston_Massachusetts.html\n",
      "Success capture Reviews for Revere Hotel Boston Common from /Hotel_Review-g60745-d89600-Reviews-Revere_Hotel_Boston_Common-Boston_Massachusetts.html\n",
      "Start capture reviewsAmes Boston Hotel, Curio Collection by Hilton from /Hotel_Review-g60745-d1513541-Reviews-Ames_Boston_Hotel_Curio_Collection_by_Hilton-Boston_Massachusetts.html\n",
      "Success capture Reviews for Ames Boston Hotel, Curio Collection by Hilton from /Hotel_Review-g60745-d1513541-Reviews-Ames_Boston_Hotel_Curio_Collection_by_Hilton-Boston_Massachusetts.html\n",
      "Start capture reviewsThe Inn At St Botolph from /Hotel_Review-g60745-d1159285-Reviews-The_Inn_At_St_Botolph-Boston_Massachusetts.html\n",
      "Success capture Reviews for The Inn At St Botolph from /Hotel_Review-g60745-d1159285-Reviews-The_Inn_At_St_Botolph-Boston_Massachusetts.html\n",
      "Start capture reviewsBattery Wharf Hotel, Boston Waterfront from /Hotel_Review-g60745-d1201116-Reviews-Battery_Wharf_Hotel_Boston_Waterfront-Boston_Massachusetts.html\n",
      "Success capture Reviews for Battery Wharf Hotel, Boston Waterfront from /Hotel_Review-g60745-d1201116-Reviews-Battery_Wharf_Hotel_Boston_Waterfront-Boston_Massachusetts.html\n",
      "Start capture reviewsRenaissance Boston Waterfront Hotel from /Hotel_Review-g60745-d678412-Reviews-Renaissance_Boston_Waterfront_Hotel-Boston_Massachusetts.html\n",
      "Success capture Reviews for Renaissance Boston Waterfront Hotel from /Hotel_Review-g60745-d678412-Reviews-Renaissance_Boston_Waterfront_Hotel-Boston_Massachusetts.html\n",
      "Start capture reviewsOmni Parker House from /Hotel_Review-g60745-d89599-Reviews-Omni_Parker_House-Boston_Massachusetts.html\n",
      "Success capture Reviews for Omni Parker House from /Hotel_Review-g60745-d89599-Reviews-Omni_Parker_House-Boston_Massachusetts.html\n",
      "Start capture reviewsDoubleTree by Hilton Hotel Boston - Downtown from /Hotel_Review-g60745-d217550-Reviews-DoubleTree_by_Hilton_Hotel_Boston_Downtown-Boston_Massachusetts.html\n",
      "Success capture Reviews for DoubleTree by Hilton Hotel Boston - Downtown from /Hotel_Review-g60745-d217550-Reviews-DoubleTree_by_Hilton_Hotel_Boston_Downtown-Boston_Massachusetts.html\n",
      "Start capture reviewsSheraton Boston Hotel from /Hotel_Review-g60745-d89602-Reviews-Sheraton_Boston_Hotel-Boston_Massachusetts.html\n",
      "Success capture Reviews for Sheraton Boston Hotel from /Hotel_Review-g60745-d89602-Reviews-Sheraton_Boston_Hotel-Boston_Massachusetts.html\n",
      "Start capture reviewsClub Quarters Hotel in Boston from /Hotel_Review-g60745-d94399-Reviews-Club_Quarters_Hotel_in_Boston-Boston_Massachusetts.html\n",
      "Success capture Reviews for Club Quarters Hotel in Boston from /Hotel_Review-g60745-d94399-Reviews-Club_Quarters_Hotel_in_Boston-Boston_Massachusetts.html\n",
      "Start capture reviewsHarborside Inn from /Hotel_Review-g60745-d94367-Reviews-Harborside_Inn-Boston_Massachusetts.html\n",
      "Success capture Reviews for Harborside Inn from /Hotel_Review-g60745-d94367-Reviews-Harborside_Inn-Boston_Massachusetts.html\n",
      "Start capture reviewsCharlesmark Hotel from /Hotel_Review-g60745-d225873-Reviews-Charlesmark_Hotel-Boston_Massachusetts.html\n",
      "Success capture Reviews for Charlesmark Hotel from /Hotel_Review-g60745-d225873-Reviews-Charlesmark_Hotel-Boston_Massachusetts.html\n",
      "Start capture reviewsBoston Marriott Copley Place from /Hotel_Review-g60745-d111416-Reviews-Boston_Marriott_Copley_Place-Boston_Massachusetts.html\n",
      "Success capture Reviews for Boston Marriott Copley Place from /Hotel_Review-g60745-d111416-Reviews-Boston_Marriott_Copley_Place-Boston_Massachusetts.html\n",
      "Start capture reviewsDoubleTree Suites by Hilton Boston-Cambridge from /Hotel_Review-g60745-d111422-Reviews-DoubleTree_Suites_by_Hilton_Boston_Cambridge-Boston_Massachusetts.html\n",
      "Success capture Reviews for DoubleTree Suites by Hilton Boston-Cambridge from /Hotel_Review-g60745-d111422-Reviews-DoubleTree_Suites_by_Hilton_Boston_Cambridge-Boston_Massachusetts.html\n",
      "Start capture reviewsHotel 140 from /Hotel_Review-g60745-d549445-Reviews-Hotel_140-Boston_Massachusetts.html\n",
      "Success capture Reviews for Hotel 140 from /Hotel_Review-g60745-d549445-Reviews-Hotel_140-Boston_Massachusetts.html\n",
      "Start capture reviewsThe Inn at Longwood Medical from /Hotel_Review-g60745-d77638-Reviews-The_Inn_at_Longwood_Medical-Boston_Massachusetts.html\n",
      "Success capture Reviews for The Inn at Longwood Medical from /Hotel_Review-g60745-d77638-Reviews-The_Inn_at_Longwood_Medical-Boston_Massachusetts.html\n",
      "Start capture reviewsHoliday Inn Express Boston from /Hotel_Review-g60745-d121009-Reviews-Holiday_Inn_Express_Boston-Boston_Massachusetts.html\n",
      "Success capture Reviews for Holiday Inn Express Boston from /Hotel_Review-g60745-d121009-Reviews-Holiday_Inn_Express_Boston-Boston_Massachusetts.html\n",
      "Start capture reviewsHilton Boston Back Bay from /Hotel_Review-g60745-d111428-Reviews-Hilton_Boston_Back_Bay-Boston_Massachusetts.html\n",
      "Success capture Reviews for Hilton Boston Back Bay from /Hotel_Review-g60745-d111428-Reviews-Hilton_Boston_Back_Bay-Boston_Massachusetts.html\n",
      "Start capture reviewsBoston Park Plaza from /Hotel_Review-g60745-d111418-Reviews-Boston_Park_Plaza-Boston_Massachusetts.html\n",
      "Success capture Reviews for Boston Park Plaza from /Hotel_Review-g60745-d111418-Reviews-Boston_Park_Plaza-Boston_Massachusetts.html\n",
      "Start capture reviewsEmbassy Suites by Hilton Boston - at Logan Airport from /Hotel_Review-g60745-d268205-Reviews-Embassy_Suites_by_Hilton_Boston_at_Logan_Airport-Boston_Massachusetts.html\n",
      "Success capture Reviews for Embassy Suites by Hilton Boston - at Logan Airport from /Hotel_Review-g60745-d268205-Reviews-Embassy_Suites_by_Hilton_Boston_at_Logan_Airport-Boston_Massachusetts.html\n",
      "Start capture reviewsHilton Boston Downtown / Faneuil Hall from /Hotel_Review-g60745-d94326-Reviews-Hilton_Boston_Downtown_Faneuil_Hall-Boston_Massachusetts.html\n",
      "Success capture Reviews for Hilton Boston Downtown / Faneuil Hall from /Hotel_Review-g60745-d94326-Reviews-Hilton_Boston_Downtown_Faneuil_Hall-Boston_Massachusetts.html\n",
      "Start capture reviewsHilton Boston Logan Airport from /Hotel_Review-g60745-d120988-Reviews-Hilton_Boston_Logan_Airport-Boston_Massachusetts.html\n",
      "Success capture Reviews for Hilton Boston Logan Airport from /Hotel_Review-g60745-d120988-Reviews-Hilton_Boston_Logan_Airport-Boston_Massachusetts.html\n",
      "Start capture reviewsDoubleTree Club by Hilton Hotel Boston Bayside from /Hotel_Review-g60745-d94368-Reviews-DoubleTree_Club_by_Hilton_Hotel_Boston_Bayside-Boston_Massachusetts.html\n",
      "Success capture Reviews for DoubleTree Club by Hilton Hotel Boston Bayside from /Hotel_Review-g60745-d94368-Reviews-DoubleTree_Club_by_Hilton_Hotel_Boston_Bayside-Boston_Massachusetts.html\n",
      "Start capture reviewsElement Boston Seaport from /Hotel_Review-g60745-d8145467-Reviews-Element_Boston_Seaport-Boston_Massachusetts.html\n",
      "Success capture Reviews for Element Boston Seaport from /Hotel_Review-g60745-d8145467-Reviews-Element_Boston_Seaport-Boston_Massachusetts.html\n",
      "Start capture reviewsHampton Inn & Suites Boston Crosstown Center from /Hotel_Review-g60745-d320038-Reviews-Hampton_Inn_Suites_Boston_Crosstown_Center-Boston_Massachusetts.html\n",
      "Success capture Reviews for Hampton Inn & Suites Boston Crosstown Center from /Hotel_Review-g60745-d320038-Reviews-Hampton_Inn_Suites_Boston_Crosstown_Center-Boston_Massachusetts.html\n",
      "Start capture reviewsChandler Inn from /Hotel_Review-g60745-d89568-Reviews-Chandler_Inn-Boston_Massachusetts.html\n",
      "Success capture Reviews for Chandler Inn from /Hotel_Review-g60745-d89568-Reviews-Chandler_Inn-Boston_Massachusetts.html\n",
      "Start capture reviewsWyndham Boston Beacon Hill from /Hotel_Review-g60745-d217546-Reviews-Wyndham_Boston_Beacon_Hill-Boston_Massachusetts.html\n",
      "Success capture Reviews for Wyndham Boston Beacon Hill from /Hotel_Review-g60745-d217546-Reviews-Wyndham_Boston_Beacon_Hill-Boston_Massachusetts.html\n",
      "Start capture reviewsCopley House from /Hotel_Review-g60745-d120977-Reviews-Copley_House-Boston_Massachusetts.html\n",
      "Success capture Reviews for Copley House from /Hotel_Review-g60745-d120977-Reviews-Copley_House-Boston_Massachusetts.html\n",
      "Start capture reviewsBoston Hotel Buckminster from /Hotel_Review-g60745-d94372-Reviews-Boston_Hotel_Buckminster-Boston_Massachusetts.html\n",
      "Success capture Reviews for Boston Hotel Buckminster from /Hotel_Review-g60745-d94372-Reviews-Boston_Hotel_Buckminster-Boston_Massachusetts.html\n",
      "Start capture reviewsThe Midtown Hotel from /Hotel_Review-g60745-d94350-Reviews-The_Midtown_Hotel-Boston_Massachusetts.html\n",
      "Success capture Reviews for The Midtown Hotel from /Hotel_Review-g60745-d94350-Reviews-The_Midtown_Hotel-Boston_Massachusetts.html\n",
      "Start capture reviewsAloft Boston Seaport from /Hotel_Review-g60745-d8145466-Reviews-Aloft_Boston_Seaport-Boston_Massachusetts.html\n",
      "Success capture Reviews for Aloft Boston Seaport from /Hotel_Review-g60745-d8145466-Reviews-Aloft_Boston_Seaport-Boston_Massachusetts.html\n",
      "Start capture reviewsHoliday Inn Express Hotel & Suites Boston Garden from /Hotel_Review-g60745-d1138709-Reviews-Holiday_Inn_Express_Hotel_Suites_Boston_Garden-Boston_Massachusetts.html\n",
      "Success capture Reviews for Holiday Inn Express Hotel & Suites Boston Garden from /Hotel_Review-g60745-d1138709-Reviews-Holiday_Inn_Express_Hotel_Suites_Boston_Garden-Boston_Massachusetts.html\n",
      "Start capture reviewsCourtyard Boston Downtown from /Hotel_Review-g60745-d89619-Reviews-Courtyard_Boston_Downtown-Boston_Massachusetts.html\n",
      "Success capture Reviews for Courtyard Boston Downtown from /Hotel_Review-g60745-d89619-Reviews-Courtyard_Boston_Downtown-Boston_Massachusetts.html\n",
      "Start capture reviewsCourtyard Boston Logan Airport from /Hotel_Review-g60745-d94363-Reviews-Courtyard_Boston_Logan_Airport-Boston_Massachusetts.html\n",
      "Success capture Reviews for Courtyard Boston Logan Airport from /Hotel_Review-g60745-d94363-Reviews-Courtyard_Boston_Logan_Airport-Boston_Massachusetts.html\n",
      "Start capture reviewsCourtyard Boston-South Boston from /Hotel_Review-g60745-d555224-Reviews-Courtyard_Boston_South_Boston-Boston_Massachusetts.html\n",
      "Success capture Reviews for Courtyard Boston-South Boston from /Hotel_Review-g60745-d555224-Reviews-Courtyard_Boston_South_Boston-Boston_Massachusetts.html\n",
      "Start capture reviewsBeacon Hill Hotel and Bistro from /Hotel_Review-g60745-d220216-Reviews-Beacon_Hill_Hotel_and_Bistro-Boston_Massachusetts.html\n",
      "Success capture Reviews for Beacon Hill Hotel and Bistro from /Hotel_Review-g60745-d220216-Reviews-Beacon_Hill_Hotel_and_Bistro-Boston_Massachusetts.html\n",
      "Start capture reviewsBEST WESTERN PLUS Roundhouse Suites from /Hotel_Review-g60745-d222957-Reviews-BEST_WESTERN_PLUS_Roundhouse_Suites-Boston_Massachusetts.html\n",
      "Success capture Reviews for BEST WESTERN PLUS Roundhouse Suites from /Hotel_Review-g60745-d222957-Reviews-BEST_WESTERN_PLUS_Roundhouse_Suites-Boston_Massachusetts.html\n",
      "Start capture reviewsComfort Inn - Boston from /Hotel_Review-g60745-d222958-Reviews-Comfort_Inn_Boston-Boston_Massachusetts.html\n",
      "Success capture Reviews for Comfort Inn - Boston from /Hotel_Review-g60745-d222958-Reviews-Comfort_Inn_Boston-Boston_Massachusetts.html\n",
      "Start capture reviewsHotel Boston from /Hotel_Review-g60745-d77629-Reviews-Hotel_Boston-Boston_Massachusetts.html\n",
      "Success capture Reviews for Hotel Boston from /Hotel_Review-g60745-d77629-Reviews-Hotel_Boston-Boston_Massachusetts.html\n",
      "Start capture reviewsRamada Boston from /Hotel_Review-g60745-d217148-Reviews-Ramada_Boston-Boston_Massachusetts.html\n",
      "Skip76\n",
      "Start capture reviewsMilner Hotel from /Hotel_Review-g60745-d89592-Reviews-Milner_Hotel-Boston_Massachusetts.html\n",
      "Success capture Reviews for Milner Hotel from /Hotel_Review-g60745-d89592-Reviews-Milner_Hotel-Boston_Massachusetts.html\n",
      "Start capture reviewsThe Boston Common Hotel and Conference Center from /Hotel_Review-g60745-d268206-Reviews-The_Boston_Common_Hotel_and_Conference_Center-Boston_Massachusetts.html\n",
      "Success capture Reviews for The Boston Common Hotel and Conference Center from /Hotel_Review-g60745-d268206-Reviews-The_Boston_Common_Hotel_and_Conference_Center-Boston_Massachusetts.html\n",
      "Start capture reviewsConstitution Inn from /Hotel_Review-g60745-d126058-Reviews-Constitution_Inn-Boston_Massachusetts.html\n",
      "Success capture Reviews for Constitution Inn from /Hotel_Review-g60745-d126058-Reviews-Constitution_Inn-Boston_Massachusetts.html\n",
      "Start capture reviewsAmericas Best Value Inn from /Hotel_Review-g60745-d216999-Reviews-Americas_Best_Value_Inn-Boston_Massachusetts.html\n",
      "Success capture Reviews for Americas Best Value Inn from /Hotel_Review-g60745-d216999-Reviews-Americas_Best_Value_Inn-Boston_Massachusetts.html\n",
      "Start capture reviewsDays Hotel Boston-Harvard Fenway from /Hotel_Review-g60745-d217000-Reviews-Days_Hotel_Boston_Harvard_Fenway-Boston_Massachusetts.html\n",
      "Success capture Reviews for Days Hotel Boston-Harvard Fenway from /Hotel_Review-g60745-d217000-Reviews-Days_Hotel_Boston_Harvard_Fenway-Boston_Massachusetts.html\n"
     ]
    }
   ],
   "source": [
    "c = 0\n",
    "error_list = []\n",
    "for x in result:\n",
    "    review_list = []\n",
    "    hotel_name = x[0]\n",
    "    hotel_url = x[1]\n",
    "    html = get_hotel_detail_page(hotel_url)\n",
    "    html = redirect_review_page(html)\n",
    "    print(\"Start capture reviews \" + hotel_name + \" from \" + hotel_url)\n",
    "    if (html is None):\n",
    "        print(\"Skip\" + str(c))\n",
    "        error_list.append(c)\n",
    "        c+=1\n",
    "        continue\n",
    "    while(True):\n",
    "        parse_review_page(html, review_list, hotel_name)\n",
    "        hotel_url = get_next_review_page(html)\n",
    "        if (hotel_url is False):\n",
    "            break\n",
    "        html = get_hotel_detail_page(hotel_url)\n",
    "        \n",
    "    write_csv(review_list, c)\n",
    "    print(\"Success capture Reviews for \" + x[0] + \" from \" + x[1])\n",
    "    c+=1\n",
    "    "
   ]
  },
  {
   "cell_type": "code",
   "execution_count": 50,
   "metadata": {
    "collapsed": true
   },
   "outputs": [],
   "source": [
    "def redirect_err_review_page(html):\n",
    "    soup = BeautifulSoup(html, 'lxml')\n",
    "    # Extract hotel name, star rating and number of reviews\n",
    "    review_boxes = soup.select('div.reviewSelector')\n",
    "    div = review_boxes[0].find('div', {'class' : 'innerBubble'})\n",
    "    url = div.find('a', href = True)\n",
    "    html = get_hotel_detail_page(url['href'])\n",
    "    return html"
   ]
  },
  {
   "cell_type": "code",
   "execution_count": 51,
   "metadata": {
    "collapsed": false
   },
   "outputs": [
    {
     "name": "stdout",
     "output_type": "stream",
     "text": [
      "Start capture reviews Ramada Boston from /Hotel_Review-g60745-d217148-Reviews-Ramada_Boston-Boston_Massachusetts.html\n",
      "Success capture Reviews for Ramada Boston from /Hotel_Review-g60745-d217148-Reviews-Ramada_Boston-Boston_Massachusetts.html\n"
     ]
    }
   ],
   "source": [
    "review_list = []\n",
    "c = 76\n",
    "x = result[76]\n",
    "hotel_name = x[0]\n",
    "hotel_url = x[1]\n",
    "html = get_hotel_detail_page(hotel_url)\n",
    "html = redirect_err_review_page(html)\n",
    "print(\"Start capture reviews \" + hotel_name + \" from \" + hotel_url)\n",
    "while(True):\n",
    "    parse_review_page(html, review_list, hotel_name)\n",
    "    hotel_url = get_next_review_page(html)\n",
    "    if (hotel_url is False):\n",
    "        break\n",
    "    html = get_hotel_detail_page(hotel_url)\n",
    "\n",
    "write_csv(review_list, c)\n",
    "print(\"Success capture Reviews for \" + x[0] + \" from \" + x[1])\n",
    "c+=1"
   ]
  },
  {
   "cell_type": "code",
   "execution_count": 55,
   "metadata": {
    "collapsed": false
   },
   "outputs": [],
   "source": [
    "with open ('attribute_ratings.csv', 'w', newline = '') as fp:\n",
    "    w = csv.writer(fp)\n",
    "    header = ['hotel_name', 'review_id', 'attribute', 'star_value']\n",
    "    w.writerow(header)\n",
    "    for i in range(0, 82):\n",
    "        with open ('review_ratings_' + str(i) + '.csv', newline = '') as fd:\n",
    "            rows = csv.reader(fd)\n",
    "            for row in rows:\n",
    "                w.writerow(row)\n",
    "        fd.close()\n",
    "fp.close()\n",
    "        "
   ]
  },
  {
   "cell_type": "markdown",
   "metadata": {},
   "source": [
    "-------"
   ]
  }
 ],
 "metadata": {
  "anaconda-cloud": {},
  "kernelspec": {
   "display_name": "Python [default]",
   "language": "python",
   "name": "python3"
  },
  "language_info": {
   "codemirror_mode": {
    "name": "ipython",
    "version": 3
   },
   "file_extension": ".py",
   "mimetype": "text/x-python",
   "name": "python",
   "nbconvert_exporter": "python",
   "pygments_lexer": "ipython3",
   "version": "3.5.2"
  }
 },
 "nbformat": 4,
 "nbformat_minor": 0
}
